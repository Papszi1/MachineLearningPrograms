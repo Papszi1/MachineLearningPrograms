{
 "cells": [
  {
   "cell_type": "code",
   "execution_count": 367,
   "metadata": {
    "colab": {
     "base_uri": "https://localhost:8080/"
    },
    "id": "hoXpkbKHtEix",
    "outputId": "9ca7f165-ba3a-4ba3-b3f9-8513cb46823a"
   },
   "outputs": [],
   "source": [
    "import os\n",
    "import copy\n",
    "import numpy as np\n",
    "import torch\n",
    "import torch.nn as nn\n",
    "from torch.utils.data import Dataset, DataLoader\n",
    "import matplotlib.pyplot as plt\n",
    "import pandas as pd"
   ]
  },
  {
   "cell_type": "code",
   "execution_count": 368,
   "metadata": {},
   "outputs": [
    {
     "name": "stdout",
     "output_type": "stream",
     "text": [
      "Number of characters in dataset: 60302\n",
      "PassengerId,Survived,Pclass,Name,Sex,Age,SibSp,Parch,Ticket,Fare,Cabin,Embarked\n",
      "1,0,3,\"Braund, Mr. Owen Harris\",male,22,1,0,A/5 21171,7.25,,S\n",
      "2,1,1,\"Cumings, Mrs. John Bradley (Florence Briggs Thayer)\",female,38,1,0,PC 17599,71.2833,C85,C\n",
      "3,1,3,\"Heikkinen, Miss. Laina\",female,26,0,0,STON/O2. 3101282,7.925,,S\n",
      "4,1,1,\"Futrelle, Mrs. Jacques Heath (Lily May Peel)\",female,35,1,0,113803,53.1,C123,S\n",
      "5,0,3,\"Allen, Mr. William Henry\",male,35,0,0,373450,8.05,,S\n",
      "6,0,3,\"Moran, Mr. James\",male,,0,0,330877,8.\n"
     ]
    }
   ],
   "source": [
    "with open('train.csv', 'r') as file:\n",
    "    content = file.read()\n",
    "\n",
    "\n",
    "print(\"Number of characters in dataset:\", len(content))\n",
    "print(content[:500])"
   ]
  },
  {
   "cell_type": "code",
   "execution_count": 369,
   "metadata": {},
   "outputs": [
    {
     "name": "stdout",
     "output_type": "stream",
     "text": [
      "[['1' '0' '3' ... 'A/5 21171' '7.25' 'nan']\n",
      " ['2' '1' '1' ... 'PC 17599' '71.2833' 'C85']\n",
      " ['3' '1' '3' ... 'STON/O2. 3101282' '7.925' 'nan']\n",
      " ...\n",
      " ['889' '0' '3' ... 'W./C. 6607' '23.45' 'nan']\n",
      " ['890' '1' '1' ... '111369' '30' 'C148']\n",
      " ['891' '0' '3' ... '370376' '7.75' 'nan']]\n",
      "(891, 12)\n"
     ]
    }
   ],
   "source": [
    "content_lines = content.splitlines()\n",
    "rows = len(content_lines)\n",
    "for i in range(rows):\n",
    "    content_lines[i] = content_lines[i].split(\",\")\n",
    "    \n",
    "rows = rows - 1\n",
    "cols = len(content_lines[0])\n",
    "label_names = content_lines[0]\n",
    "\n",
    "dataset_noisy = []\n",
    "for i in range(1, rows+1):\n",
    "    lista = []\n",
    "    for k in range(cols):\n",
    "        if content_lines[i][k] == '':\n",
    "            lista.append(np.nan)\n",
    "        else:\n",
    "            lista.append(content_lines[i][k])\n",
    "        \n",
    "    dataset_noisy.append(lista)\n",
    "dataset_noisy = np.array(dataset_noisy)\n",
    "print(dataset_noisy)\n",
    "print(dataset_noisy.shape)"
   ]
  },
  {
   "cell_type": "code",
   "execution_count": 370,
   "metadata": {},
   "outputs": [
    {
     "name": "stdout",
     "output_type": "stream",
     "text": [
      "['1' '0' '3' '\"Braund' ' Mr. Owen Harris\"' 'male' '22' '1' '0' 'A/5 21171'\n",
      " '7.25' 'nan']\n",
      "['1' '0' '3' '\"Braund' ' Mr. Owen Harris\"' '1' '22' '1' '0' 'A/5 21171'\n",
      " '7.25' 'nan']\n",
      "['1' '0' '3' '1' '22' '1' '0' '7.25']\n",
      "8\n"
     ]
    }
   ],
   "source": [
    "print(dataset_noisy[0])\n",
    "dataset_noisy[:, 5] = np.where(dataset_noisy[:, 5] == 'male', 1, 0)\n",
    "print(dataset_noisy[0])\n",
    "if dataset_noisy.shape[1] == 12:\n",
    "    dataset_noisy = np.delete(dataset_noisy, 9, axis=1)\n",
    "    dataset_noisy = np.delete(dataset_noisy, 10, axis=1)\n",
    "    dataset_noisy = np.delete(dataset_noisy, 3, axis=1)\n",
    "    dataset_noisy = np.delete(dataset_noisy, 3, axis=1)\n",
    "\n",
    "\n",
    "cols = len(dataset_noisy[1])\n",
    "print(dataset_noisy[0])\n",
    "print(cols)"
   ]
  },
  {
   "cell_type": "code",
   "execution_count": 371,
   "metadata": {},
   "outputs": [],
   "source": [
    "dataset_noisy = np.array(dataset_noisy, dtype=np.float32)"
   ]
  },
  {
   "cell_type": "code",
   "execution_count": 372,
   "metadata": {},
   "outputs": [],
   "source": [
    "zerosarray = np.ones((rows, 1), dtype=np.float32)\n",
    "dataset = np.hstack((dataset_noisy, zerosarray))\n",
    "where_nan_values = np.where(np.isnan(dataset_noisy))\n",
    "dataset[where_nan_values[0], 4] = 0\n",
    "dataset[where_nan_values[0], 8] = 0"
   ]
  },
  {
   "cell_type": "code",
   "execution_count": 373,
   "metadata": {},
   "outputs": [
    {
     "name": "stdout",
     "output_type": "stream",
     "text": [
      "669\n",
      "222\n"
     ]
    }
   ],
   "source": [
    "thirdquarter = int((rows/2) + (rows/4)) + 1\n",
    "dataset_split_train = dataset[:thirdquarter, :]\n",
    "dataset_split_val = dataset[thirdquarter:, :]\n",
    "\n",
    "print(len(dataset_split_train))\n",
    "print(len(dataset_split_val))"
   ]
  },
  {
   "cell_type": "code",
   "execution_count": 374,
   "metadata": {},
   "outputs": [],
   "source": [
    "class PredictionDataset(Dataset):\n",
    "    def __init__(self, dataset):\n",
    "        self.xs = torch.tensor(np.delete(dataset, 1, axis=1), dtype=torch.float32)\n",
    "        self.ys = torch.tensor(dataset[:, 1], dtype=torch.float32).view(-1, 1)\n",
    "\n",
    "    def __len__(self):\n",
    "        return self.xs.shape[0]\n",
    "\n",
    "    def __getitem__(self, idx):\n",
    "        return self.xs[idx, :], self.ys[idx]\n",
    "\n",
    "dataloader_reg_train = PredictionDataset(dataset_split_train)\n",
    "dataloader_reg_val = PredictionDataset(dataset_split_val)\n",
    "\n",
    "dataloader_reg_train = DataLoader(dataloader_reg_train, batch_size=24)\n",
    "dataloader_reg_val = DataLoader(dataloader_reg_val, batch_size=24)"
   ]
  },
  {
   "cell_type": "code",
   "execution_count": 375,
   "metadata": {},
   "outputs": [],
   "source": [
    "cols = len(dataset_split_train[0])\n",
    "class SurviveClassifierModel(nn.Module):\n",
    "    def __init__(self, input_dim):\n",
    "        super().__init__()\n",
    "        self.layers = nn.Sequential(\n",
    "            nn.Linear(input_dim, 4),\n",
    "            nn.ReLU(),\n",
    "            nn.Linear(4, 4),\n",
    "            nn.ReLU(),\n",
    "            nn.Linear(4, 1),\n",
    "            nn.Sigmoid()\n",
    "          )\n",
    "\n",
    "    def forward(self, x):\n",
    "        return self.layers(x)\n",
    "surv_model = SurviveClassifierModel(input_dim=8)"
   ]
  },
  {
   "cell_type": "code",
   "execution_count": 376,
   "metadata": {},
   "outputs": [],
   "source": [
    "@torch.no_grad()\n",
    "def acc_fn(y_hat, y_true):\n",
    "    assert y_hat.shape == y_true.shape\n",
    "    correct = torch.sum(torch.round(y_hat) == y_true)\n",
    "    total = y_hat.numel()\n",
    "    return correct / total\n"
   ]
  },
  {
   "cell_type": "code",
   "execution_count": 284,
   "metadata": {},
   "outputs": [
    {
     "name": "stdout",
     "output_type": "stream",
     "text": [
      "[tensor(0.5650), tensor(0.5646), tensor(0.5644), tensor(0.5643), tensor(0.5641), tensor(0.5640), tensor(0.5638), tensor(0.5637), tensor(0.5635), tensor(0.5634), tensor(0.5632), tensor(0.5631), tensor(0.5630), tensor(0.5629), tensor(0.5627), tensor(0.5626), tensor(0.5624), tensor(0.5623), tensor(0.5622), tensor(0.5620), tensor(0.5619), tensor(0.5618), tensor(0.5617), tensor(0.5615), tensor(0.5614), tensor(0.5613), tensor(0.5612), tensor(0.5610), tensor(0.5609), tensor(0.5608), tensor(0.5606), tensor(0.5605), tensor(0.5604), tensor(0.5603), tensor(0.5601), tensor(0.5600), tensor(0.5599), tensor(0.5598), tensor(0.5597), tensor(0.5595), tensor(0.5594), tensor(0.5593), tensor(0.5592), tensor(0.5591), tensor(0.5589), tensor(0.5588), tensor(0.5587), tensor(0.5586), tensor(0.5585), tensor(0.5583), tensor(0.5582), tensor(0.5581), tensor(0.5580), tensor(0.5579), tensor(0.5577), tensor(0.5576), tensor(0.5575), tensor(0.5573), tensor(0.5572), tensor(0.5571), tensor(0.5569), tensor(0.5568), tensor(0.5567), tensor(0.5566), tensor(0.5564), tensor(0.5563), tensor(0.5562), tensor(0.5560), tensor(0.5559), tensor(0.5558), tensor(0.5557), tensor(0.5555), tensor(0.5554), tensor(0.5553), tensor(0.5552), tensor(0.5550), tensor(0.5549), tensor(0.5548), tensor(0.5547), tensor(0.5546), tensor(0.5545), tensor(0.5543), tensor(0.5542), tensor(0.5541), tensor(0.5540), tensor(0.5539), tensor(0.5537), tensor(0.5536), tensor(0.5535), tensor(0.5534), tensor(0.5533), tensor(0.5532), tensor(0.5530), tensor(0.5529), tensor(0.5528), tensor(0.5526), tensor(0.5525), tensor(0.5523), tensor(0.5522), tensor(0.5521)]\n",
      "[tensor(0.7011), tensor(0.7011), tensor(0.7041), tensor(0.7056), tensor(0.7056), tensor(0.7056), tensor(0.7056), tensor(0.7041), tensor(0.7041), tensor(0.7041), tensor(0.7041), tensor(0.7041), tensor(0.7041), tensor(0.7041), tensor(0.7056), tensor(0.7056), tensor(0.7071), tensor(0.7071), tensor(0.7085), tensor(0.7085), tensor(0.7100), tensor(0.7100), tensor(0.7115), tensor(0.7100), tensor(0.7115), tensor(0.7100), tensor(0.7130), tensor(0.7115), tensor(0.7115), tensor(0.7115), tensor(0.7115), tensor(0.7115), tensor(0.7100), tensor(0.7130), tensor(0.7115), tensor(0.7115), tensor(0.7115), tensor(0.7115), tensor(0.7115), tensor(0.7115), tensor(0.7130), tensor(0.7130), tensor(0.7130), tensor(0.7130), tensor(0.7130), tensor(0.7130), tensor(0.7130), tensor(0.7130), tensor(0.7115), tensor(0.7145), tensor(0.7115), tensor(0.7115), tensor(0.7130), tensor(0.7115), tensor(0.7115), tensor(0.7115), tensor(0.7115), tensor(0.7100), tensor(0.7100), tensor(0.7085), tensor(0.7071), tensor(0.7071), tensor(0.7071), tensor(0.7071), tensor(0.7085), tensor(0.7085), tensor(0.7085), tensor(0.7100), tensor(0.7100), tensor(0.7115), tensor(0.7115), tensor(0.7130), tensor(0.7145), tensor(0.7145), tensor(0.7145), tensor(0.7145), tensor(0.7145), tensor(0.7145), tensor(0.7145), tensor(0.7160), tensor(0.7175), tensor(0.7175), tensor(0.7175), tensor(0.7175), tensor(0.7175), tensor(0.7160), tensor(0.7175), tensor(0.7160), tensor(0.7160), tensor(0.7160), tensor(0.7160), tensor(0.7160), tensor(0.7175), tensor(0.7190), tensor(0.7190), tensor(0.7190), tensor(0.7190), tensor(0.7175), tensor(0.7175), tensor(0.7175)]\n",
      "[tensor(33.2036), tensor(33.1610), tensor(33.1635), tensor(33.1856), tensor(33.1361), tensor(33.1605), tensor(33.1227), tensor(33.1548), tensor(33.1317), tensor(33.1570), tensor(33.1322), tensor(33.1600), tensor(33.1214), tensor(33.1556), tensor(33.1186), tensor(33.1156), tensor(33.1513), tensor(33.1239), tensor(33.1095), tensor(33.1410), tensor(33.1204), tensor(33.1020), tensor(33.1338), tensor(33.1117), tensor(33.1227), tensor(33.1102), tensor(33.0870), tensor(33.1048), tensor(33.0996), tensor(33.0967), tensor(33.0937), tensor(33.1217), tensor(33.0628), tensor(33.0731), tensor(33.0878), tensor(33.0734), tensor(33.0624), tensor(33.0615), tensor(33.0686), tensor(33.0473), tensor(33.0487), tensor(33.0519), tensor(33.0336), tensor(33.0366), tensor(33.0383), tensor(33.0200), tensor(33.0386), tensor(33.0017), tensor(33.0253), tensor(32.9934), tensor(32.9632), tensor(32.9668), tensor(32.9567), tensor(32.9522), tensor(32.9457), tensor(32.9399), tensor(32.9339), tensor(32.9252), tensor(32.9126), tensor(32.9099), tensor(32.9053), tensor(32.9009), tensor(32.8962), tensor(32.8914), tensor(32.8863), tensor(32.8815), tensor(32.8776), tensor(32.8720), tensor(32.8666), tensor(32.8619), tensor(32.8566), tensor(32.8515), tensor(32.8463), tensor(32.8453), tensor(32.8364), tensor(32.8354), tensor(32.8299), tensor(32.8254), tensor(32.8202), tensor(32.8147), tensor(32.7925), tensor(32.7991), tensor(32.7977), tensor(32.7885), tensor(32.7550), tensor(32.7600), tensor(32.7627), tensor(32.7499), tensor(32.7465), tensor(32.7393), tensor(32.7340), tensor(32.7123), tensor(32.6814), tensor(32.6901), tensor(32.6920), tensor(32.6824), tensor(32.6761), tensor(32.6459), tensor(32.6360), tensor(32.6118)]\n",
      "[tensor(0.7125), tensor(0.7125), tensor(0.7125), tensor(0.7125), tensor(0.7125), tensor(0.7125), tensor(0.7125), tensor(0.7125), tensor(0.7125), tensor(0.7125), tensor(0.7125), tensor(0.7125), tensor(0.7125), tensor(0.7125), tensor(0.7125), tensor(0.7125), tensor(0.7125), tensor(0.7125), tensor(0.7125), tensor(0.7125), tensor(0.7125), tensor(0.7125), tensor(0.7125), tensor(0.7125), tensor(0.7167), tensor(0.7167), tensor(0.7125), tensor(0.7208), tensor(0.7208), tensor(0.7208), tensor(0.7208), tensor(0.7208), tensor(0.7208), tensor(0.7208), tensor(0.7208), tensor(0.7208), tensor(0.7208), tensor(0.7208), tensor(0.7208), tensor(0.7208), tensor(0.7208), tensor(0.7208), tensor(0.7208), tensor(0.7167), tensor(0.7167), tensor(0.7167), tensor(0.7167), tensor(0.7167), tensor(0.7167), tensor(0.7167), tensor(0.7167), tensor(0.7167), tensor(0.7167), tensor(0.7167), tensor(0.7167), tensor(0.7167), tensor(0.7167), tensor(0.7167), tensor(0.7167), tensor(0.7167), tensor(0.7167), tensor(0.7167), tensor(0.7167), tensor(0.7208), tensor(0.7208), tensor(0.7208), tensor(0.7208), tensor(0.7208), tensor(0.7208), tensor(0.7208), tensor(0.7208), tensor(0.7208), tensor(0.7208), tensor(0.7208), tensor(0.7208), tensor(0.7208), tensor(0.7208), tensor(0.7208), tensor(0.7208), tensor(0.7167), tensor(0.7167), tensor(0.7167), tensor(0.7167), tensor(0.7167), tensor(0.7167), tensor(0.7167), tensor(0.7167), tensor(0.7167), tensor(0.7167), tensor(0.7167), tensor(0.7167), tensor(0.7167), tensor(0.7167), tensor(0.7167), tensor(0.7167), tensor(0.7167), tensor(0.7167), tensor(0.7167), tensor(0.7167), tensor(0.7167)]\n"
     ]
    },
    {
     "data": {
      "image/png": "[encoded data removed]",
      "text/plain": [
       "<Figure size 640x480 with 1 Axes>"
      ]
     },
     "metadata": {},
     "output_type": "display_data"
    }
   ],
   "source": [
    "loss_fn = nn.BCELoss()\n",
    "\n",
    "n_max_epochs = 200\n",
    "learning_rate = 0.0001\n",
    "optimizer = torch.optim.Adam(surv_model.parameters(), lr=learning_rate)\n",
    "\n",
    "train_losses = []\n",
    "train_accuracy = []\n",
    "val_losses = []\n",
    "val_accuracy = []\n",
    "\n",
    "for i in range(n_max_epochs):\n",
    "    surv_model.train()\n",
    "    train_losses_in_epoch = []\n",
    "    train_accuracy_in_epoch = []\n",
    "\n",
    "    for xs, ys in dataloader_reg_train:\n",
    "        optimizer.zero_grad()\n",
    "        prediction = surv_model(xs)\n",
    "        loss = loss_fn(prediction, ys)\n",
    "        accuracy = acc_fn(prediction, ys)\n",
    "        \n",
    "        train_losses_in_epoch.append(loss)\n",
    "        train_accuracy_in_epoch.append(accuracy)\n",
    "\n",
    "        loss.backward()\n",
    "        optimizer.step()\n",
    "        \n",
    "    train_losses_in_epoch = torch.tensor(train_losses_in_epoch)\n",
    "    train_accuracy_in_epoch = torch.tensor(train_accuracy_in_epoch)\n",
    "\n",
    "    avg_loss_in_epoch = train_losses_in_epoch.mean()\n",
    "    avg_acc_in_epoch = train_accuracy_in_epoch.mean()\n",
    "\n",
    "    train_losses.append(avg_loss_in_epoch)\n",
    "    train_accuracy.append(avg_acc_in_epoch)\n",
    "\n",
    "    surv_model.eval()\n",
    "    val_losses_in_epoch = []\n",
    "    val_accuracy_in_epoch = []\n",
    "\n",
    "    for xs, ys in dataloader_reg_val:\n",
    "        with torch.no_grad():\n",
    "            prediction = surv_model(xs)\n",
    "        loss = loss_fn(ys, prediction)\n",
    "        acc = acc_fn(prediction, ys)\n",
    "\n",
    "        val_losses_in_epoch.append(loss)\n",
    "        val_accuracy_in_epoch.append(acc)\n",
    "\n",
    "    val_losses_in_epoch = torch.tensor(val_losses_in_epoch)\n",
    "    val_accuracy_in_epoch = torch.tensor(val_accuracy_in_epoch)\n",
    "\n",
    "    avg_loss_in_epoch = val_losses_in_epoch.mean()\n",
    "    avg_acc_in_epoch = val_accuracy_in_epoch.mean()\n",
    "\n",
    "    val_losses.append(avg_loss_in_epoch)\n",
    "    val_accuracy.append(avg_acc_in_epoch)\n",
    "    \n",
    "    \n",
    "\n",
    "plt.plot(train_losses, label='Loss')\n",
    "plt.plot(train_accuracy, label='Accuracy')\n",
    "plt.plot(val_accuracy, label='Accuracy')\n",
    "\n",
    "plt.legend()\n",
    "plt.show()"
   ]
  },
  {
   "cell_type": "code",
   "execution_count": 346,
   "metadata": {},
   "outputs": [
    {
     "name": "stdout",
     "output_type": "stream",
     "text": [
      "419\n",
      "11\n"
     ]
    }
   ],
   "source": [
    "with open('test.csv', 'r') as file:\n",
    "    test_content = file.read()\n",
    "test_content = test_content.splitlines()\n",
    "for i in range(len(test_content)):\n",
    "    test_content[i] = test_content[i].split(\",\")\n",
    "print(len(test_content))\n",
    "print(len(test_content[0]))"
   ]
  },
  {
   "cell_type": "code",
   "execution_count": 347,
   "metadata": {},
   "outputs": [],
   "source": [
    "array_test = []\n",
    "for i in range(1, len(test_content)):\n",
    "    row = test_content[i]\n",
    "    row[4] = 1 if row[4] == 'male' else 0\n",
    "    row.pop(8)\n",
    "    row.pop(10)\n",
    "    row.pop(2) \n",
    "    row.pop(2)\n",
    "    row.pop(7)\n",
    "    if row[3] == '':\n",
    "        row[3] = 0\n",
    "        row.append(0)\n",
    "    else:\n",
    "        row.append(1)\n",
    "    if row[6] == '':\n",
    "        row[6] = 0\n",
    "    array_test.append(row)\n"
   ]
  },
  {
   "cell_type": "code",
   "execution_count": 349,
   "metadata": {},
   "outputs": [
    {
     "name": "stdout",
     "output_type": "stream",
     "text": [
      "[[8.92000e+02 3.00000e+00 1.00000e+00 ... 0.00000e+00 7.82920e+00\n",
      "  1.00000e+00]\n",
      " [8.93000e+02 3.00000e+00 0.00000e+00 ... 0.00000e+00 7.00000e+00\n",
      "  1.00000e+00]\n",
      " [8.94000e+02 2.00000e+00 1.00000e+00 ... 0.00000e+00 9.68750e+00\n",
      "  1.00000e+00]\n",
      " ...\n",
      " [1.30700e+03 3.00000e+00 1.00000e+00 ... 0.00000e+00 7.25000e+00\n",
      "  1.00000e+00]\n",
      " [1.30800e+03 3.00000e+00 1.00000e+00 ... 0.00000e+00 8.05000e+00\n",
      "  0.00000e+00]\n",
      " [1.30900e+03 3.00000e+00 1.00000e+00 ... 1.00000e+00 2.23583e+01\n",
      "  0.00000e+00]]\n"
     ]
    }
   ],
   "source": [
    "array_test = np.array(array_test, dtype=np.float32)\n",
    "print(array_test)"
   ]
  },
  {
   "cell_type": "code",
   "execution_count": 365,
   "metadata": {},
   "outputs": [],
   "source": [
    "predictions = []\n",
    "for i in range(len(array_test)):\n",
    "    data_of_person = torch.tensor(array_test[i])\n",
    "    prediction = surv_model(data_of_person)\n",
    "    prediction = (prediction >= 0.5).int()\n",
    "    passenger_id = int(data_of_person[0])\n",
    "    survived = int(prediction)\n",
    "    predictions.append((passenger_id, survived))"
   ]
  },
  {
   "cell_type": "code",
   "execution_count": 366,
   "metadata": {},
   "outputs": [
    {
     "name": "stdout",
     "output_type": "stream",
     "text": [
      "[(892, 0), (893, 0), (894, 0), (895, 0), (896, 0), (897, 0), (898, 0), (899, 0), (900, 0), (901, 0), (902, 0), (903, 0), (904, 1), (905, 0), (906, 1), (907, 0), (908, 0), (909, 0), (910, 0), (911, 0), (912, 1), (913, 0), (914, 1), (915, 1), (916, 1), (917, 0), (918, 1), (919, 0), (920, 0), (921, 0), (922, 0), (923, 0), (924, 0), (925, 0), (926, 1), (927, 0), (928, 0), (929, 0), (930, 0), (931, 1), (932, 0), (933, 0), (934, 0), (935, 0), (936, 1), (937, 0), (938, 0), (939, 0), (940, 1), (941, 0), (942, 1), (943, 0), (944, 0), (945, 1), (946, 0), (947, 0), (948, 0), (949, 0), (950, 0), (951, 1), (952, 0), (953, 0), (954, 0), (955, 0), (956, 1), (957, 0), (958, 0), (959, 1), (960, 0), (961, 1), (962, 0), (963, 0), (964, 0), (965, 0), (966, 1), (967, 1), (968, 0), (969, 0), (970, 0), (971, 0), (972, 0), (973, 1), (974, 0), (975, 0), (976, 0), (977, 0), (978, 0), (979, 0), (980, 0), (981, 0), (982, 0), (983, 0), (984, 1), (985, 0), (986, 0), (987, 0), (988, 1), (989, 0), (990, 0), (991, 0), (992, 1), (993, 0), (994, 0), (995, 0), (996, 0), (997, 0), (998, 0), (999, 0), (1000, 0), (1001, 0), (1002, 0), (1003, 0), (1004, 1), (1005, 0), (1006, 1), (1007, 0), (1008, 0), (1009, 0), (1010, 1), (1011, 0), (1012, 0), (1013, 0), (1014, 1), (1015, 0), (1016, 0), (1017, 0), (1018, 0), (1019, 0), (1020, 0), (1021, 0), (1022, 0), (1023, 0), (1024, 0), (1025, 0), (1026, 0), (1027, 0), (1028, 0), (1029, 0), (1030, 0), (1031, 1), (1032, 0), (1033, 1), (1034, 1), (1035, 0), (1036, 0), (1037, 0), (1038, 1), (1039, 0), (1040, 0), (1041, 0), (1042, 1), (1043, 0), (1044, 0), (1045, 0), (1046, 0), (1047, 0), (1048, 1), (1049, 0), (1050, 0), (1051, 0), (1052, 0), (1053, 0), (1054, 0), (1055, 0), (1056, 0), (1057, 0), (1058, 1), (1059, 0), (1060, 0), (1061, 0), (1062, 0), (1063, 0), (1064, 0), (1065, 0), (1066, 0), (1067, 1), (1068, 1), (1069, 1), (1070, 1), (1071, 1), (1072, 0), (1073, 1), (1074, 1), (1075, 0), (1076, 1), (1077, 0), (1078, 0), (1079, 0), (1080, 1), (1081, 0), (1082, 0), (1083, 0), (1084, 0), (1085, 0), (1086, 0), (1087, 0), (1088, 1), (1089, 0), (1090, 0), (1091, 0), (1092, 0), (1093, 0), (1094, 1), (1095, 0), (1096, 0), (1097, 0), (1098, 0), (1099, 0), (1100, 0), (1101, 0), (1102, 0), (1103, 0), (1104, 1), (1105, 0), (1106, 0), (1107, 1), (1108, 0), (1109, 1), (1110, 1), (1111, 0), (1112, 0), (1113, 0), (1114, 0), (1115, 0), (1116, 1), (1117, 0), (1118, 0), (1119, 0), (1120, 0), (1121, 0), (1122, 1), (1123, 0), (1124, 0), (1125, 0), (1126, 1), (1127, 0), (1128, 1), (1129, 0), (1130, 0), (1131, 1), (1132, 1), (1133, 1), (1134, 1), (1135, 0), (1136, 0), (1137, 1), (1138, 0), (1139, 0), (1140, 0), (1141, 0), (1142, 0), (1143, 0), (1144, 1), (1145, 0), (1146, 0), (1147, 0), (1148, 0), (1149, 0), (1150, 0), (1151, 0), (1152, 0), (1153, 0), (1154, 0), (1155, 0), (1156, 0), (1157, 0), (1158, 0), (1159, 0), (1160, 0), (1161, 0), (1162, 1), (1163, 0), (1164, 1), (1165, 0), (1166, 0), (1167, 0), (1168, 0), (1169, 0), (1170, 0), (1171, 0), (1172, 0), (1173, 0), (1174, 0), (1175, 0), (1176, 0), (1177, 0), (1178, 0), (1179, 1), (1180, 0), (1181, 0), (1182, 0), (1183, 0), (1184, 0), (1185, 1), (1186, 0), (1187, 0), (1188, 1), (1189, 0), (1190, 1), (1191, 0), (1192, 0), (1193, 0), (1194, 0), (1195, 0), (1196, 0), (1197, 0), (1198, 1), (1199, 0), (1200, 1), (1201, 0), (1202, 0), (1203, 0), (1204, 0), (1205, 0), (1206, 1), (1207, 0), (1208, 1), (1209, 0), (1210, 0), (1211, 0), (1212, 0), (1213, 0), (1214, 0), (1215, 0), (1216, 1), (1217, 0), (1218, 0), (1219, 1), (1220, 0), (1221, 0), (1222, 1), (1223, 0), (1224, 0), (1225, 0), (1226, 0), (1227, 0), (1228, 0), (1229, 0), (1230, 0), (1231, 0), (1232, 0), (1233, 0), (1234, 1), (1235, 1), (1236, 0), (1237, 0), (1238, 0), (1239, 0), (1240, 0), (1241, 0), (1242, 1), (1243, 0), (1244, 1), (1245, 1), (1246, 0), (1247, 0), (1248, 1), (1249, 0), (1250, 0), (1251, 0), (1252, 0), (1253, 0), (1254, 0), (1255, 0), (1256, 1), (1257, 1), (1258, 0), (1259, 1), (1260, 1), (1261, 0), (1262, 0), (1263, 1), (1264, 0), (1265, 0), (1266, 1), (1267, 1), (1268, 0), (1269, 0), (1270, 1), (1271, 0), (1272, 0), (1273, 0), (1274, 0), (1275, 0), (1276, 0), (1277, 1), (1278, 0), (1279, 0), (1280, 0), (1281, 0), (1282, 1), (1283, 1), (1284, 0), (1285, 0), (1286, 0), (1287, 1), (1288, 0), (1289, 1), (1290, 0), (1291, 0), (1292, 1), (1293, 0), (1294, 1), (1295, 1), (1296, 0), (1297, 0), (1298, 0), (1299, 1), (1300, 0), (1301, 0), (1302, 0), (1303, 1), (1304, 0), (1305, 0), (1306, 1), (1307, 0), (1308, 0), (1309, 0)]\n"
     ]
    }
   ],
   "source": [
    "print(predictions)\n",
    "submission_df = pd.DataFrame(predictions, columns=[\"PassengerId\", \"Survived\"])\n",
    "\n",
    "# Save to CSV (no index)\n",
    "submission_df.to_csv(\"my_submission.csv\", index=False)"
   ]
  },
  {
   "cell_type": "code",
   "execution_count": null,
   "metadata": {},
   "outputs": [],
   "source": []
  }
 ],
 "metadata": {
  "colab": {
   "provenance": []
  },
  "kernelspec": {
   "display_name": "Python (geo_env)",
   "language": "python",
   "name": "geo_env"
  },
  "language_info": {
   "codemirror_mode": {
    "name": "ipython",
    "version": 3
   },
   "file_extension": ".py",
   "mimetype": "text/x-python",
   "name": "python",
   "nbconvert_exporter": "python",
   "pygments_lexer": "ipython3",
   "version": "3.8.18"
  }
 },
 "nbformat": 4,
 "nbformat_minor": 4
}
